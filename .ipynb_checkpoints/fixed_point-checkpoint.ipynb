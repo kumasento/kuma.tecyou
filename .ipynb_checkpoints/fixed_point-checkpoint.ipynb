{
 "cells": [
  {
   "cell_type": "markdown",
   "metadata": {},
   "source": [
    "# Fixed Point Data Type"
   ]
  },
  {
   "cell_type": "code",
   "execution_count": 1,
   "metadata": {
    "collapsed": false
   },
   "outputs": [],
   "source": [
    "%load_ext autoreload\n",
    "%autoreload 2\n",
    "import numpy as np"
   ]
  },
  {
   "cell_type": "code",
   "execution_count": 4,
   "metadata": {
    "collapsed": true
   },
   "outputs": [],
   "source": [
    "def float_2_fixed(num, F=23, I=8):\n",
    "    \"\"\"\n",
    "    Arguments:\n",
    "    - num: input float data\n",
    "    - F: number of fraction bits\n",
    "    - I: number of integer bits (sort of integer)\n",
    "    \n",
    "    Default configuration for the fixed point data type is 32bits signed\n",
    "    data with 23 bits fraction and 8 bits integer\n",
    "    \"\"\"\n",
    "    N = F + I + 1 # number of bits for this fixed point data type, it's signed\n",
    "    scaled = num * (1 << F) # first scale number to 2^F\n",
    "    fixed = int(scaled) # then transform to integer type\n",
    "    return fixed"
   ]
  },
  {
   "cell_type": "markdown",
   "metadata": {},
   "source": [
    "## Show the bitmap of converted fixed point data"
   ]
  },
  {
   "cell_type": "code",
   "execution_count": 50,
   "metadata": {
    "collapsed": false
   },
   "outputs": [
    {
     "name": "stdout",
     "output_type": "stream",
     "text": [
      "from -1.0\n",
      "to   -8388608\n",
      "bin  11111111100000000000000000000000\n",
      "frac          00000000000000000000000\n",
      "int  111111111\n",
      "hex  ff800000\n",
      "\n",
      "from -0.5\n",
      "to   -4194304\n",
      "bin  11111111110000000000000000000000\n",
      "frac          10000000000000000000000\n",
      "int  111111111\n",
      "hex  ffc00000\n",
      "\n",
      "from -0.25\n",
      "to   -2097152\n",
      "bin  11111111111000000000000000000000\n",
      "frac          11000000000000000000000\n",
      "int  111111111\n",
      "hex  ffe00000\n",
      "\n",
      "from 0.25\n",
      "to   2097152\n",
      "bin  00000000001000000000000000000000\n",
      "frac          01000000000000000000000\n",
      "int  000000000\n",
      "hex  200000\n",
      "\n",
      "from 0.5\n",
      "to   4194304\n",
      "bin  00000000010000000000000000000000\n",
      "frac          10000000000000000000000\n",
      "int  000000000\n",
      "hex  400000\n",
      "\n",
      "from 1.0\n",
      "to   8388608\n",
      "bin  00000000100000000000000000000000\n",
      "frac          00000000000000000000000\n",
      "int  000000001\n",
      "hex  800000\n",
      "\n"
     ]
    }
   ],
   "source": [
    "F = 23\n",
    "I = 8\n",
    "random_floats = np.array([-1, -0.5, -0.25, 0.25, 0.5, 1], dtype=np.float32)\n",
    "for float_num in random_floats:\n",
    "    fixed_num = float_2_fixed(float_num, 23, 8)\n",
    "    bin_fixed = bin(fixed_num % (1<<32))[2:]\n",
    "    hex_fixed = hex(fixed_num % (1<<32))[2:]\n",
    "    print 'from {}'.format(float_num)\n",
    "    print 'to   {}'.format(fixed_num)\n",
    "    print 'bin  {}'.format(bin_fixed.zfill(32))\n",
    "    print 'frac {}{}'.format(' '*(I+1), bin_fixed.zfill(32)[1+I:])\n",
    "    print 'int  {}'.format(bin_fixed.zfill(32)[:1+I])\n",
    "    print 'hex  {}'.format(hex_fixed)\n",
    "    print ''"
   ]
  },
  {
   "cell_type": "markdown",
   "metadata": {},
   "source": [
    "## Range for different fixed point configuration"
   ]
  },
  {
   "cell_type": "code",
   "execution_count": 51,
   "metadata": {
    "collapsed": true
   },
   "outputs": [],
   "source": [
    "# note that if the number is minus in integer, it will remain the\n",
    "# minus sign when it is converted by float()\n",
    "def fixed_2_float(num, F, I):\n",
    "    scaled = float(num) / (1 << F) # scaled back to original value\n",
    "    return scaled # then we could directly return the scaled value"
   ]
  },
  {
   "cell_type": "code",
   "execution_count": 59,
   "metadata": {
    "collapsed": false
   },
   "outputs": [
    {
     "name": "stdout",
     "output_type": "stream",
     "text": [
      "2147483647 -2147483648\n",
      "<type 'int'>\n",
      "<type 'int'>\n"
     ]
    }
   ],
   "source": [
    "max_fixed =  0x7FFFFFFF\n",
    "min_fixed = -0x80000000\n",
    "print max_fixed, min_fixed\n",
    "# check the range\n",
    "print type(max_fixed)\n",
    "print type(min_fixed)"
   ]
  },
  {
   "cell_type": "code",
   "execution_count": 65,
   "metadata": {
    "collapsed": false
   },
   "outputs": [
    {
     "name": "stdout",
     "output_type": "stream",
     "text": [
      "Q31.0 2147483647.0 -2147483648.0\n",
      "Q30.1 1073741823.5 -1073741824.0\n",
      "Q29.2 536870911.75 -536870912.0\n",
      "Q28.3 268435455.875 -268435456.0\n",
      "Q27.4 134217727.938 -134217728.0\n",
      "Q26.5 67108863.9688 -67108864.0\n",
      "Q25.6 33554431.9844 -33554432.0\n",
      "Q24.7 16777215.9922 -16777216.0\n",
      "Q23.8 8388607.99609 -8388608.0\n",
      "Q22.9 4194303.99805 -4194304.0\n",
      "Q21.10 2097151.99902 -2097152.0\n",
      "Q20.11 1048575.99951 -1048576.0\n",
      "Q19.12 524287.999756 -524288.0\n",
      "Q18.13 262143.999878 -262144.0\n",
      "Q17.14 131071.999939 -131072.0\n",
      "Q16.15 65535.9999695 -65536.0\n",
      "Q15.16 32767.9999847 -32768.0\n",
      "Q14.17 16383.9999924 -16384.0\n",
      "Q13.18 8191.99999619 -8192.0\n",
      "Q12.19 4095.99999809 -4096.0\n",
      "Q11.20 2047.99999905 -2048.0\n",
      "Q10.21 1023.99999952 -1024.0\n",
      "Q9.22 511.999999762 -512.0\n",
      "Q8.23 255.999999881 -256.0\n",
      "Q7.24 127.99999994 -128.0\n",
      "Q6.25 63.9999999702 -64.0\n",
      "Q5.26 31.9999999851 -32.0\n",
      "Q4.27 15.9999999925 -16.0\n",
      "Q3.28 7.99999999627 -8.0\n",
      "Q2.29 3.99999999814 -4.0\n",
      "Q1.30 1.99999999907 -2.0\n",
      "Q0.31 0.999999999534 -1.0\n"
     ]
    }
   ],
   "source": [
    "for F in range(0, 32):\n",
    "    I = 32 - 1 - F\n",
    "    max_float = fixed_2_float(max_fixed, F, I)\n",
    "    min_float = fixed_2_float(min_fixed, F, I)\n",
    "    print 'Q{}.{}'.format(I, F), max_float, min_float"
   ]
  },
  {
   "cell_type": "markdown",
   "metadata": {},
   "source": [
    "## Arithmetic Examples"
   ]
  },
  {
   "cell_type": "markdown",
   "metadata": {},
   "source": [
    "### Addition"
   ]
  },
  {
   "cell_type": "markdown",
   "metadata": {},
   "source": [
    "### Multiplication"
   ]
  },
  {
   "cell_type": "code",
   "execution_count": null,
   "metadata": {
    "collapsed": true
   },
   "outputs": [],
   "source": []
  }
 ],
 "metadata": {
  "anaconda-cloud": {},
  "kernelspec": {
   "display_name": "Python [conda root]",
   "language": "python",
   "name": "conda-root-py"
  },
  "language_info": {
   "codemirror_mode": {
    "name": "ipython",
    "version": 2
   },
   "file_extension": ".py",
   "mimetype": "text/x-python",
   "name": "python",
   "nbconvert_exporter": "python",
   "pygments_lexer": "ipython2",
   "version": "2.7.12"
  }
 },
 "nbformat": 4,
 "nbformat_minor": 1
}
