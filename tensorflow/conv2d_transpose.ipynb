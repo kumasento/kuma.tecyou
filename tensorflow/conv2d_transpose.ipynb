{
 "cells": [
  {
   "cell_type": "code",
   "execution_count": 7,
   "metadata": {
    "collapsed": true
   },
   "outputs": [],
   "source": [
    "# Import necessary libraries\n",
    "import tensorflow as tf\n",
    "import numpy as np"
   ]
  },
  {
   "cell_type": "code",
   "execution_count": 26,
   "metadata": {
    "collapsed": false,
    "scrolled": false
   },
   "outputs": [
    {
     "name": "stdout",
     "output_type": "stream",
     "text": [
      "[[[[ 4.]\n",
      "   [ 4.]]\n",
      "\n",
      "  [[ 4.]\n",
      "   [ 4.]]]]\n"
     ]
    }
   ],
   "source": [
    "in_channels = 1\n",
    "out_channels = 1\n",
    "height = 2\n",
    "width = 2\n",
    "kernel_size = 3\n",
    "stride = 1\n",
    "# padding is automatically computed in this case\n",
    "# pad = 1\n",
    "output_height = stride * (height - 1) + 1\n",
    "output_width = stride * (width - 1) + 1\n",
    "\n",
    "with tf.Graph().as_default():\n",
    "    x = tf.placeholder(tf.float32, [1, height, width, in_channels])\n",
    "    \n",
    "    W = tf.Variable(tf.ones([kernel_size, kernel_size, out_channels, in_channels], dtype=tf.float32))\n",
    "    \n",
    "    output_shape = tf.stack([1, output_height, output_width, out_channels])\n",
    "    \n",
    "    y = tf.nn.conv2d_transpose(x, W, output_shape, strides=[1, stride, stride, 1])\n",
    "    \n",
    "    with tf.Session() as sess:\n",
    "        sess.run(tf.global_variables_initializer())\n",
    "        print(sess.run(y, feed_dict={ x: np.array([[1, 1], [1, 1]]).reshape([1, height, width, 1])}))"
   ]
  },
  {
   "cell_type": "code",
   "execution_count": null,
   "metadata": {
    "collapsed": true
   },
   "outputs": [],
   "source": []
  }
 ],
 "metadata": {
  "kernelspec": {
   "display_name": "Python 3",
   "language": "python",
   "name": "python3"
  },
  "language_info": {
   "codemirror_mode": {
    "name": "ipython",
    "version": 3
   },
   "file_extension": ".py",
   "mimetype": "text/x-python",
   "name": "python",
   "nbconvert_exporter": "python",
   "pygments_lexer": "ipython3",
   "version": "3.6.0"
  }
 },
 "nbformat": 4,
 "nbformat_minor": 2
}
